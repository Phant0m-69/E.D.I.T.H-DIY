{
  "nbformat": 4,
  "nbformat_minor": 0,
  "metadata": {
    "colab": {
      "name": "helmet.ipynb",
      "provenance": []
    },
    "kernelspec": {
      "name": "python3",
      "display_name": "Python 3"
    },
    "accelerator": "GPU"
  },
  "cells": [
    {
      "cell_type": "code",
      "metadata": {
        "id": "3IVoWoVjh1Hc"
      },
      "source": [
        "from google.colab import drive\n",
        "drive.mount('/content/drive')"
      ],
      "execution_count": null,
      "outputs": []
    },
    {
      "cell_type": "code",
      "metadata": {
        "id": "kcjkJpY8jC1I"
      },
      "source": [
        "!ls\n",
        "!rm -fr darknet\n",
        "!git clone https://github.com/AlexeyAB/darknet/"
      ],
      "execution_count": null,
      "outputs": []
    },
    {
      "cell_type": "code",
      "metadata": {
        "id": "vWd26iZsiG-G"
      },
      "source": [
        "cp drive/'My Drive'/data_for_colab.zip /content/darknet"
      ],
      "execution_count": null,
      "outputs": []
    },
    {
      "cell_type": "code",
      "metadata": {
        "id": "G4QKKja3iQlf"
      },
      "source": [
        "cd darknet"
      ],
      "execution_count": null,
      "outputs": []
    },
    {
      "cell_type": "code",
      "metadata": {
        "id": "5yMrWviBj2QR"
      },
      "source": [
        "ls"
      ],
      "execution_count": null,
      "outputs": []
    },
    {
      "cell_type": "code",
      "metadata": {
        "id": "sFZXxjgaiOjh"
      },
      "source": [
        "!unzip data_for_colab"
      ],
      "execution_count": null,
      "outputs": []
    },
    {
      "cell_type": "code",
      "metadata": {
        "id": "Kfto5Y9XjOKV"
      },
      "source": [
        "#upload train.txt and  test.txt files\n",
        "from google.colab import files\n",
        "uploaded = files.upload() \n",
        "for name, data in uploaded.items():\n",
        "  with open(name, 'wb') as f:\n",
        "    f.write(data)\n",
        "    print ('saved file', name)"
      ],
      "execution_count": null,
      "outputs": []
    },
    {
      "cell_type": "code",
      "metadata": {
        "id": "uO6EoHncj63V"
      },
      "source": [
        "!apt-get update\n",
        "!apt-get upgrade"
      ],
      "execution_count": null,
      "outputs": []
    },
    {
      "cell_type": "code",
      "metadata": {
        "id": "3G_9_u1fkIO1"
      },
      "source": [
        "!apt-get install build-essential\n",
        "!apt-get install cmake git libgtk2.0-dev pkg-config libavcodec-dev libavformat-dev libswscale-dev"
      ],
      "execution_count": null,
      "outputs": []
    },
    {
      "cell_type": "code",
      "metadata": {
        "id": "bKN9Dm6QkOhD"
      },
      "source": [
        "!apt-get install libavcodec-dev libavformat-dev libswscale-d"
      ],
      "execution_count": null,
      "outputs": []
    },
    {
      "cell_type": "code",
      "metadata": {
        "id": "C0CAMPSQkUgY"
      },
      "source": [
        "!apt-get -y install cmake\n",
        "!which cmake\n",
        "\n",
        "!cmake --version"
      ],
      "execution_count": null,
      "outputs": []
    },
    {
      "cell_type": "code",
      "metadata": {
        "id": "wSrm0t29kX-7"
      },
      "source": [
        "!apt-get install libopencv-dev"
      ],
      "execution_count": null,
      "outputs": []
    },
    {
      "cell_type": "code",
      "metadata": {
        "id": "dxrLYQh8kbWF"
      },
      "source": [
        "!apt-get install vim"
      ],
      "execution_count": null,
      "outputs": []
    },
    {
      "cell_type": "code",
      "metadata": {
        "id": "sO7PHeJ0kfnT"
      },
      "source": [
        "ls"
      ],
      "execution_count": null,
      "outputs": []
    },
    {
      "cell_type": "code",
      "metadata": {
        "id": "0JnRnfvvkn0I"
      },
      "source": [
        "#Now let's get some YOLOv3 weights from the official site\n",
        "!ls\n",
        "!wget https://pjreddie.com/media/files/yolov3.weights"
      ],
      "execution_count": null,
      "outputs": []
    },
    {
      "cell_type": "code",
      "metadata": {
        "id": "_5zeFLVOkqXG"
      },
      "source": [
        "#No here we're modifying the makefile to set OPENCV and GPU to 1\n",
        "!ls\n",
        "!sed -i 's/OPENCV=0/OPENCV=1/g' Makefile\n",
        "!sed -i 's/GPU=0/GPU=1/g' Makefile"
      ],
      "execution_count": null,
      "outputs": []
    },
    {
      "cell_type": "code",
      "metadata": {
        "id": "8TdUwVEVkvzy"
      },
      "source": [
        "!ls\n",
        "%cd ../\n",
        "!ls"
      ],
      "execution_count": null,
      "outputs": []
    },
    {
      "cell_type": "code",
      "metadata": {
        "id": "qqRZWjkzlC34"
      },
      "source": [
        "!apt install g++-5\n",
        "!apt install gcc-5\n",
        "\n",
        "!update-alternatives --install /usr/bin/gcc gcc /usr/bin/gcc-5 10\n",
        "!update-alternatives --install /usr/bin/gcc gcc /usr/bin/gcc-5 20\n",
        "!update-alternatives --install /usr/bin/g++ g++ /usr/bin/g++-5 10\n",
        "!update-alternatives --install /usr/bin/g++ g++ /usr/bin/g++-5 20\n",
        "!update-alternatives --install /usr/bin/cc cc /usr/bin/gcc 30\n",
        "!update-alternatives --set cc /usr/bin/gcc\n",
        "!update-alternatives --install /usr/bin/c++ c++ /usr/bin/g++ 30\n",
        "!update-alternatives --set c++ /usr/bin/g++"
      ],
      "execution_count": null,
      "outputs": []
    },
    {
      "cell_type": "code",
      "metadata": {
        "id": "ddkD1eVqlHnM"
      },
      "source": [
        "#Now, here's a bunch of code that takes the longest to execute here but\n",
        "#It's about installing CUDA and using the beautiful Tesla K80 GPU, so that\n",
        "#Will worth it\n",
        "\n",
        "!apt update -qq;\n",
        "!wget https://developer.nvidia.com/compute/cuda/8.0/Prod2/local_installers/cuda-repo-ubuntu1604-8-0-local-ga2_8.0.61-1_amd64-deb\n",
        "!dpkg -i cuda-repo-ubuntu1604-8-0-local-ga2_8.0.61-1_amd64-deb\n",
        "!apt-get update -qq\n",
        "\n",
        "#Here were are installing compilers and creating some links\n",
        "!apt-get install cuda -y -qq #gcc-5 g++-5 \n",
        "#!ln -s /usr/bin/gcc-5 /usr/local/cuda/bin/gcc\n",
        "#!ln -s /usr/bin/g++-5 /usr/local/cuda/bin/g++\n",
        "!apt update\n",
        "!apt upgrade\n",
        "!apt install cuda-8.0 -y"
      ],
      "execution_count": null,
      "outputs": []
    },
    {
      "cell_type": "code",
      "metadata": {
        "id": "0vUKyUYYlQCf"
      },
      "source": [
        "#Now let's see whether the GPU is here and CUDA was successfully installed!\n",
        "import tensorflow as tf\n",
        "device_name = tf.test.gpu_device_name()\n",
        "print(device_name)\n",
        "\n",
        "print(\"'sup!'\")\n",
        "\n",
        "!/usr/local/cuda/bin/nvcc --version"
      ],
      "execution_count": null,
      "outputs": []
    },
    {
      "cell_type": "code",
      "metadata": {
        "id": "AahEi-CRlvLC"
      },
      "source": [
        "ls"
      ],
      "execution_count": null,
      "outputs": []
    },
    {
      "cell_type": "code",
      "metadata": {
        "id": "q1NWTIZhl0iD"
      },
      "source": [
        "%cd darknet\n",
        "!make"
      ],
      "execution_count": null,
      "outputs": []
    },
    {
      "cell_type": "code",
      "metadata": {
        "id": "pY96M6E4l-5m"
      },
      "source": [
        "#Let's define some functions that will let us show images, and upload and \n",
        "#download files\n",
        "def imShow(path):\n",
        "  import cv2\n",
        "  import matplotlib.pyplot as plt\n",
        "  %matplotlib inline\n",
        "\n",
        "  image = cv2.imread(path)\n",
        "  height, width = image.shape[:2]\n",
        "  resized_image = cv2.resize(image,(3*width, 3*height), interpolation = cv2.INTER_CUBIC)\n",
        "\n",
        "  fig = plt.gcf()\n",
        "  fig.set_size_inches(18, 10)\n",
        "  plt.axis(\"off\")\n",
        "  #plt.rcParams['figure.figsize'] = [10, 5]\n",
        "  plt.imshow(cv2.cvtColor(resized_image, cv2.COLOR_BGR2RGB))\n",
        "  plt.show()\n",
        "  \n",
        "  \n",
        "def upload():\n",
        "  from google.colab import files\n",
        "  uploaded = files.upload() \n",
        "  for name, data in uploaded.items():\n",
        "    with open(name, 'wb') as f:\n",
        "      f.write(data)\n",
        "      print ('saved file', name)\n",
        "def download(path):\n",
        "  from google.colab import files\n",
        "  files.download(path)"
      ],
      "execution_count": 65,
      "outputs": []
    },
    {
      "cell_type": "markdown",
      "metadata": {
        "id": "xFtE6oSb9xrZ"
      },
      "source": [
        "The code that strats training . stop it after 1000 . More the times=more the accuracy"
      ]
    },
    {
      "cell_type": "code",
      "metadata": {
        "id": "ue81fZVnmSWq"
      },
      "source": [
        "ls"
      ],
      "execution_count": null,
      "outputs": []
    },
    {
      "cell_type": "code",
      "metadata": {
        "id": "7_I5lFromoh_"
      },
      "source": [
        "!./darknet detector train data_for_colab/obj.data data_for_colab/yolov3-tiny-obj.cfg data_for_colab/yolov3-tiny.conv.15 -dont_show"
      ],
      "execution_count": null,
      "outputs": []
    },
    {
      "cell_type": "code",
      "metadata": {
        "id": "Mc1Qu1qprVQU",
        "outputId": "2b3c5ec1-e294-4199-a62b-8f33ce39145d",
        "colab": {
          "base_uri": "https://localhost:8080/"
        }
      },
      "source": [
        "ls"
      ],
      "execution_count": 58,
      "outputs": [
        {
          "output_type": "stream",
          "text": [
            "cuda-repo-ubuntu1604-8-0-local-ga2_8.0.61-1_amd64-deb  \u001b[0m\u001b[01;34mdrive\u001b[0m/\n",
            "\u001b[01;34mdarknet\u001b[0m/                                               \u001b[01;34msample_data\u001b[0m/\n"
          ],
          "name": "stdout"
        }
      ]
    },
    {
      "cell_type": "code",
      "metadata": {
        "id": "VTKG-i28-24z"
      },
      "source": [
        "cd /content/darknet/"
      ],
      "execution_count": null,
      "outputs": []
    },
    {
      "cell_type": "code",
      "metadata": {
        "id": "bdHkv8M0_Cqc"
      },
      "source": [
        "ls"
      ],
      "execution_count": null,
      "outputs": []
    },
    {
      "cell_type": "markdown",
      "metadata": {
        "id": "Blzcn-o38cmi"
      },
      "source": [
        "upload test.jpg below for testing on an image"
      ]
    },
    {
      "cell_type": "code",
      "metadata": {
        "id": "WCbvAU4jsO8t"
      },
      "source": [
        "from google.colab import files\n",
        "uploaded = files.upload() \n",
        "for name, data in uploaded.items():\n",
        "  with open(name, 'wb') as f:\n",
        "    f.write(data)\n",
        "    print ('saved file', name)"
      ],
      "execution_count": null,
      "outputs": []
    },
    {
      "cell_type": "code",
      "metadata": {
        "id": "luxQw_2_rY2y",
        "outputId": "e2a6eafd-2e29-479a-c09f-09591c108b0c",
        "colab": {
          "base_uri": "https://localhost:8080/"
        }
      },
      "source": [
        "!./darknet detector test data_for_colab/obj.data data_for_colab/yolov3-tiny-obj.cfg backup/yolov3-tiny-obj_1000.weights test.jpg -i 0 -thresh 0.5\n"
      ],
      "execution_count": 61,
      "outputs": [
        {
          "output_type": "stream",
          "text": [
            " CUDA-version: 8000 (10010), GPU count: 1  \n",
            " OpenCV version: 3.2.0\n",
            " 0 : compute_capability = 750, cudnn_half = 0, GPU: Tesla T4 \n",
            "net.optimized_memory = 0 \n",
            "mini_batch = 1, batch = 2, time_steps = 1, train = 0 \n",
            "   layer   filters  size/strd(dil)      input                output\n",
            "   0 conv     16       3 x 3/ 1    416 x 416 x   3 ->  416 x 416 x  16 0.150 BF\n",
            "   1 max                2x 2/ 2    416 x 416 x  16 ->  208 x 208 x  16 0.003 BF\n",
            "   2 conv     32       3 x 3/ 1    208 x 208 x  16 ->  208 x 208 x  32 0.399 BF\n",
            "   3 max                2x 2/ 2    208 x 208 x  32 ->  104 x 104 x  32 0.001 BF\n",
            "   4 conv     64       3 x 3/ 1    104 x 104 x  32 ->  104 x 104 x  64 0.399 BF\n",
            "   5 max                2x 2/ 2    104 x 104 x  64 ->   52 x  52 x  64 0.001 BF\n",
            "   6 conv    128       3 x 3/ 1     52 x  52 x  64 ->   52 x  52 x 128 0.399 BF\n",
            "   7 max                2x 2/ 2     52 x  52 x 128 ->   26 x  26 x 128 0.000 BF\n",
            "   8 conv    256       3 x 3/ 1     26 x  26 x 128 ->   26 x  26 x 256 0.399 BF\n",
            "   9 max                2x 2/ 2     26 x  26 x 256 ->   13 x  13 x 256 0.000 BF\n",
            "  10 conv    512       3 x 3/ 1     13 x  13 x 256 ->   13 x  13 x 512 0.399 BF\n",
            "  11 max                2x 2/ 1     13 x  13 x 512 ->   13 x  13 x 512 0.000 BF\n",
            "  12 conv   1024       3 x 3/ 1     13 x  13 x 512 ->   13 x  13 x1024 1.595 BF\n",
            "  13 conv    256       1 x 1/ 1     13 x  13 x1024 ->   13 x  13 x 256 0.089 BF\n",
            "  14 conv    512       3 x 3/ 1     13 x  13 x 256 ->   13 x  13 x 512 0.399 BF\n",
            "  15 conv     18       1 x 1/ 1     13 x  13 x 512 ->   13 x  13 x  18 0.003 BF\n",
            "  16 yolo\n",
            "[yolo] params: iou loss: mse (2), iou_norm: 0.75, obj_norm: 1.00, cls_norm: 1.00, delta_norm: 1.00, scale_x_y: 1.00\n",
            "  17 route  13 \t\t                           ->   13 x  13 x 256 \n",
            "  18 conv    128       1 x 1/ 1     13 x  13 x 256 ->   13 x  13 x 128 0.011 BF\n",
            "  19 upsample                 2x    13 x  13 x 128 ->   26 x  26 x 128\n",
            "  20 route  19 8 \t                           ->   26 x  26 x 384 \n",
            "  21 conv    256       3 x 3/ 1     26 x  26 x 384 ->   26 x  26 x 256 1.196 BF\n",
            "  22 conv     18       1 x 1/ 1     26 x  26 x 256 ->   26 x  26 x  18 0.006 BF\n",
            "  23 yolo\n",
            "[yolo] params: iou loss: mse (2), iou_norm: 0.75, obj_norm: 1.00, cls_norm: 1.00, delta_norm: 1.00, scale_x_y: 1.00\n",
            "Total BFLOPS 5.448 \n",
            "avg_outputs = 324846 \n",
            " Allocate additional workspace_size = 24.92 MB \n",
            "Loading weights from backup/yolov3-tiny-obj_1000.weights...\n",
            " seen 64, trained: 64 K-images (1 Kilo-batches_64) \n",
            "Done! Loaded 24 layers from weights-file \n",
            " Detection layer: 16 - type = 28 \n",
            " Detection layer: 23 - type = 28 \n",
            "test.jpg: Predicted in 328.821000 milli-seconds.\n",
            "Helmet: 81%\n",
            "Unable to init server: Could not connect: Connection refused\n",
            "\n",
            "(predictions:31129): Gtk-\u001b[1;33mWARNING\u001b[0m **: \u001b[34m13:40:39.230\u001b[0m: cannot open display: \n"
          ],
          "name": "stdout"
        }
      ]
    },
    {
      "cell_type": "code",
      "metadata": {
        "id": "5ha0yycO_QwC"
      },
      "source": [
        "imShow(\"predictions.jpg\")"
      ],
      "execution_count": null,
      "outputs": []
    },
    {
      "cell_type": "markdown",
      "metadata": {
        "id": "26extk8q8jCR"
      },
      "source": [
        "Following for detection demo on video"
      ]
    },
    {
      "cell_type": "code",
      "metadata": {
        "id": "oXXaHKd8qvdk"
      },
      "source": [
        "cd .."
      ],
      "execution_count": null,
      "outputs": []
    },
    {
      "cell_type": "code",
      "metadata": {
        "id": "WWoDH3jvyqcL"
      },
      "source": [
        "cp drive/'My Drive'/bike2.mpeg /content/darknet"
      ],
      "execution_count": 54,
      "outputs": []
    },
    {
      "cell_type": "code",
      "metadata": {
        "id": "3e6fR5JHEYz7"
      },
      "source": [
        "cd darknet"
      ],
      "execution_count": null,
      "outputs": []
    },
    {
      "cell_type": "code",
      "metadata": {
        "id": "PnrYIdZYyqlH"
      },
      "source": [
        "ls"
      ],
      "execution_count": null,
      "outputs": []
    },
    {
      "cell_type": "code",
      "metadata": {
        "id": "Z7rMt1Bs3PDG"
      },
      "source": [
        "!./darknet detector demo data_for_colab/obj.data data_for_colab/yolov3-tiny-obj.cfg backup/yolov3-tiny-obj_1000.weights  -dont_show bike2.mpeg -i 0 -out_filename veout.avi"
      ],
      "execution_count": null,
      "outputs": []
    },
    {
      "cell_type": "markdown",
      "metadata": {
        "id": "E6boFfnZ_8_8"
      },
      "source": [
        "now this download file and play it on your device to see the output"
      ]
    },
    {
      "cell_type": "code",
      "metadata": {
        "id": "i6HglpRKyq8n"
      },
      "source": [
        "download('veout.avi') "
      ],
      "execution_count": null,
      "outputs": []
    },
    {
      "cell_type": "code",
      "metadata": {
        "id": "zsNneXPjAO0-"
      },
      "source": [
        ""
      ],
      "execution_count": null,
      "outputs": []
    },
    {
      "cell_type": "markdown",
      "metadata": {
        "id": "470aMmlnAKFh"
      },
      "source": [
        "Note : IDK what this is for , never tried it"
      ]
    },
    {
      "cell_type": "code",
      "metadata": {
        "id": "ENJPbjl1saXM",
        "outputId": "e2b801a3-e26a-44b1-c0ea-be1c1850e694",
        "colab": {
          "base_uri": "https://localhost:8080/",
          "height": 451
        }
      },
      "source": [
        "!./darknet detector calc_anchors Dataset/obj.data -num_of_clusters 5 -width 416 -height 416"
      ],
      "execution_count": null,
      "outputs": [
        {
          "output_type": "stream",
          "text": [
            "\n",
            " num_of_clusters = 5, width = 416, height = 416 \n",
            " read labels from 237 images \n",
            "\r loaded \t image: 1 \t box: 1\r loaded \t image: 2 \t box: 2\r loaded \t image: 3 \t box: 3\r loaded \t image: 4 \t box: 4\r loaded \t image: 5 \t box: 5\r loaded \t image: 6 \t box: 6\r loaded \t image: 7 \t box: 7\r loaded \t image: 8 \t box: 8\r loaded \t image: 9 \t box: 9\r loaded \t image: 10 \t box: 10\r loaded \t image: 11 \t box: 11\r loaded \t image: 12 \t box: 12\r loaded \t image: 13 \t box: 13\r loaded \t image: 14 \t box: 14\r loaded \t image: 15 \t box: 15\r loaded \t image: 16 \t box: 16\r loaded \t image: 17 \t box: 17\r loaded \t image: 18 \t box: 18\r loaded \t image: 19 \t box: 19\r loaded \t image: 20 \t box: 20\r loaded \t image: 21 \t box: 21\r loaded \t image: 22 \t box: 22\r loaded \t image: 23 \t box: 23\r loaded \t image: 24 \t box: 24\r loaded \t image: 25 \t box: 25\r loaded \t image: 26 \t box: 26\r loaded \t image: 27 \t box: 27\r loaded \t image: 28 \t box: 28\r loaded \t image: 29 \t box: 29\r loaded \t image: 30 \t box: 30\n",
            "\n",
            "Wrong label: /content/darknet/Dataset/nfpa/pos-130.txt - j = 0, x = 0.508333, y = 0.473333, width = 1.010000, height = 0.613333 \n",
            "\r loaded \t image: 31 \t box: 31\r loaded \t image: 32 \t box: 32\r loaded \t image: 33 \t box: 33\r loaded \t image: 34 \t box: 34\r loaded \t image: 35 \t box: 35\r loaded \t image: 36 \t box: 36\r loaded \t image: 37 \t box: 37\r loaded \t image: 38 \t box: 38\r loaded \t image: 39 \t box: 39\r loaded \t image: 40 \t box: 40\r loaded \t image: 41 \t box: 41\r loaded \t image: 42 \t box: 42\r loaded \t image: 43 \t box: 43\r loaded \t image: 44 \t box: 44\r loaded \t image: 45 \t box: 45\r loaded \t image: 46 \t box: 46\r loaded \t image: 47 \t box: 47\r loaded \t image: 48 \t box: 48\r loaded \t image: 49 \t box: 49\r loaded \t image: 50 \t box: 50\r loaded \t image: 51 \t box: 51\r loaded \t image: 52 \t box: 52\r loaded \t image: 53 \t box: 53\r loaded \t image: 54 \t box: 54\r loaded \t image: 55 \t box: 55\r loaded \t image: 56 \t box: 56\r loaded \t image: 57 \t box: 57\r loaded \t image: 58 \t box: 58\r loaded \t image: 59 \t box: 59\r loaded \t image: 60 \t box: 60\r loaded \t image: 61 \t box: 61\r loaded \t image: 62 \t box: 62\r loaded \t image: 63 \t box: 63\r loaded \t image: 64 \t box: 64\r loaded \t image: 65 \t box: 65\r loaded \t image: 66 \t box: 66\r loaded \t image: 67 \t box: 67\r loaded \t image: 68 \t box: 68\r loaded \t image: 69 \t box: 69\r loaded \t image: 70 \t box: 70\r loaded \t image: 71 \t box: 71\r loaded \t image: 72 \t box: 72\r loaded \t image: 73 \t box: 73\r loaded \t image: 73 \t box: 74\n",
            "\n",
            "Wrong label: /content/darknet/Dataset/nfpa/pos-173.txt - j = 2, x = 0.440625, y = 0.969555, width = 0.000000, height = 0.000000 \n",
            "\r loaded \t image: 73 \t box: 75\r loaded \t image: 74 \t box: 76\r loaded \t image: 74 \t box: 77\r loaded \t image: 74 \t box: 78\r loaded \t image: 75 \t box: 79\r loaded \t image: 75 \t box: 80\r loaded \t image: 75 \t box: 81\r loaded \t image: 75 \t box: 82\r loaded \t image: 75 \t box: 83\r loaded \t image: 75 \t box: 84\r loaded \t image: 75 \t box: 85\r loaded \t image: 75 \t box: 86\r loaded \t image: 75 \t box: 87\r loaded \t image: 76 \t box: 88\r loaded \t image: 77 \t box: 89\r loaded \t image: 78 \t box: 90\r loaded \t image: 78 \t box: 91\r loaded \t image: 78 \t box: 92\r loaded \t image: 78 \t box: 93\r loaded \t image: 78 \t box: 94\r loaded \t image: 79 \t box: 95\r loaded \t image: 79 \t box: 96\r loaded \t image: 79 \t box: 97\r loaded \t image: 79 \t box: 98\r loaded \t image: 79 \t box: 99\r loaded \t image: 79 \t box: 100\r loaded \t image: 80 \t box: 101\r loaded \t image: 81 \t box: 102\r loaded \t image: 81 \t box: 103\r loaded \t image: 82 \t box: 104\r loaded \t image: 83 \t box: 105\r loaded \t image: 84 \t box: 106\r loaded \t image: 85 \t box: 107\r loaded \t image: 86 \t box: 108\r loaded \t image: 87 \t box: 109\r loaded \t image: 88 \t box: 110\r loaded \t image: 89 \t box: 111\r loaded \t image: 90 \t box: 112\r loaded \t image: 91 \t box: 113\r loaded \t image: 92 \t box: 114\r loaded \t image: 93 \t box: 115\r loaded \t image: 94 \t box: 116\r loaded \t image: 95 \t box: 117\r loaded \t image: 96 \t box: 118\r loaded \t image: 97 \t box: 119\r loaded \t image: 98 \t box: 120\r loaded \t image: 99 \t box: 121\r loaded \t image: 100 \t box: 122\r loaded \t image: 101 \t box: 123\r loaded \t image: 102 \t box: 124\r loaded \t image: 103 \t box: 125\r loaded \t image: 104 \t box: 126\r loaded \t image: 105 \t box: 127\r loaded \t image: 106 \t box: 128\r loaded \t image: 107 \t box: 129\r loaded \t image: 107 \t box: 130\r loaded \t image: 108 \t box: 131\r loaded \t image: 108 \t box: 132\r loaded \t image: 109 \t box: 133\r loaded \t image: 110 \t box: 134\r loaded \t image: 110 \t box: 135\r loaded \t image: 111 \t box: 136\r loaded \t image: 111 \t box: 137\r loaded \t image: 112 \t box: 138\r loaded \t image: 112 \t box: 139\r loaded \t image: 113 \t box: 140\r loaded \t image: 113 \t box: 141\r loaded \t image: 114 \t box: 142\r loaded \t image: 114 \t box: 143\r loaded \t image: 115 \t box: 144\r loaded \t image: 115 \t box: 145\r loaded \t image: 116 \t box: 146\r loaded \t image: 116 \t box: 147\r loaded \t image: 117 \t box: 148\r loaded \t image: 117 \t box: 149\r loaded \t image: 118 \t box: 150\r loaded \t image: 118 \t box: 151\r loaded \t image: 119 \t box: 152\r loaded \t image: 119 \t box: 153\r loaded \t image: 120 \t box: 154\r loaded \t image: 120 \t box: 155\r loaded \t image: 121 \t box: 156\r loaded \t image: 122 \t box: 157\r loaded \t image: 123 \t box: 158\r loaded \t image: 123 \t box: 159\r loaded \t image: 123 \t box: 160\r loaded \t image: 124 \t box: 161\r loaded \t image: 125 \t box: 162\r loaded \t image: 126 \t box: 163\r loaded \t image: 126 \t box: 164\r loaded \t image: 126 \t box: 165\r loaded \t image: 126 \t box: 166\r loaded \t image: 127 \t box: 167\r loaded \t image: 128 \t box: 168\r loaded \t image: 128 \t box: 169\r loaded \t image: 128 \t box: 170\r loaded \t image: 128 \t box: 171\r loaded \t image: 129 \t box: 172\r loaded \t image: 130 \t box: 173\r loaded \t image: 131 \t box: 174\r loaded \t image: 132 \t box: 175\r loaded \t image: 133 \t box: 176\r loaded \t image: 134 \t box: 177\r loaded \t image: 135 \t box: 178\r loaded \t image: 136 \t box: 179\r loaded \t image: 136 \t box: 180\r loaded \t image: 137 \t box: 181\r loaded \t image: 137 \t box: 182\r loaded \t image: 137 \t box: 183\r loaded \t image: 137 \t box: 184\r loaded \t image: 137 \t box: 185\r loaded \t image: 137 \t box: 186\r loaded \t image: 138 \t box: 187\r loaded \t image: 139 \t box: 188\r loaded \t image: 140 \t box: 189\r loaded \t image: 141 \t box: 190\r loaded \t image: 142 \t box: 191\r loaded \t image: 143 \t box: 192\r loaded \t image: 143 \t box: 193\r loaded \t image: 143 \t box: 194\r loaded \t image: 143 \t box: 195\r loaded \t image: 144 \t box: 196\r loaded \t image: 145 \t box: 197\r loaded \t image: 146 \t box: 198\r loaded \t image: 147 \t box: 199\r loaded \t image: 148 \t box: 200\r loaded \t image: 148 \t box: 201\r loaded \t image: 148 \t box: 202\r loaded \t image: 148 \t box: 203\r loaded \t image: 149 \t box: 204\r loaded \t image: 150 \t box: 205\r loaded \t image: 150 \t box: 206\r loaded \t image: 151 \t box: 207\r loaded \t image: 151 \t box: 208\r loaded \t image: 151 \t box: 209\r loaded \t image: 152 \t box: 210\r loaded \t image: 152 \t box: 211\r loaded \t image: 153 \t box: 212\r loaded \t image: 154 \t box: 213\r loaded \t image: 155 \t box: 214\r loaded \t image: 156 \t box: 215\r loaded \t image: 157 \t box: 216\r loaded \t image: 158 \t box: 217\r loaded \t image: 159 \t box: 218\r loaded \t image: 160 \t box: 219\r loaded \t image: 161 \t box: 220\r loaded \t image: 162 \t box: 221\r loaded \t image: 163 \t box: 222\r loaded \t image: 164 \t box: 223\r loaded \t image: 165 \t box: 224\r loaded \t image: 166 \t box: 225\r loaded \t image: 167 \t box: 226\r loaded \t image: 168 \t box: 227\r loaded \t image: 169 \t box: 228\r loaded \t image: 170 \t box: 229\r loaded \t image: 171 \t box: 230\r loaded \t image: 172 \t box: 231\r loaded \t image: 172 \t box: 232\r loaded \t image: 172 \t box: 233\r loaded \t image: 173 \t box: 234\r loaded \t image: 174 \t box: 235\r loaded \t image: 175 \t box: 236\r loaded \t image: 176 \t box: 237\r loaded \t image: 177 \t box: 238\r loaded \t image: 177 \t box: 239\r loaded \t image: 178 \t box: 240\r loaded \t image: 179 \t box: 241\r loaded \t image: 180 \t box: 242\r loaded \t image: 181 \t box: 243\r loaded \t image: 182 \t box: 244\r loaded \t image: 183 \t box: 245\r loaded \t image: 184 \t box: 246\r loaded \t image: 185 \t box: 247\r loaded \t image: 186 \t box: 248\r loaded \t image: 187 \t box: 249\r loaded \t image: 188 \t box: 250\r loaded \t image: 189 \t box: 251\r loaded \t image: 190 \t box: 252\r loaded \t image: 191 \t box: 253\r loaded \t image: 192 \t box: 254\r loaded \t image: 193 \t box: 255\r loaded \t image: 194 \t box: 256\r loaded \t image: 195 \t box: 257\r loaded \t image: 196 \t box: 258\r loaded \t image: 197 \t box: 259\r loaded \t image: 198 \t box: 260\r loaded \t image: 199 \t box: 261\r loaded \t image: 200 \t box: 262\r loaded \t image: 201 \t box: 263\r loaded \t image: 202 \t box: 264\r loaded \t image: 203 \t box: 265\r loaded \t image: 204 \t box: 266\r loaded \t image: 205 \t box: 267\r loaded \t image: 206 \t box: 268\r loaded \t image: 207 \t box: 269\r loaded \t image: 208 \t box: 270\r loaded \t image: 209 \t box: 271\r loaded \t image: 210 \t box: 272\r loaded \t image: 211 \t box: 273\r loaded \t image: 212 \t box: 274\r loaded \t image: 213 \t box: 275\r loaded \t image: 214 \t box: 276\r loaded \t image: 215 \t box: 277\r loaded \t image: 216 \t box: 278\r loaded \t image: 217 \t box: 279\r loaded \t image: 218 \t box: 280\r loaded \t image: 219 \t box: 281\r loaded \t image: 220 \t box: 282\r loaded \t image: 221 \t box: 283\r loaded \t image: 222 \t box: 284\r loaded \t image: 223 \t box: 285\r loaded \t image: 224 \t box: 286\r loaded \t image: 225 \t box: 287\r loaded \t image: 226 \t box: 288\r loaded \t image: 227 \t box: 289\r loaded \t image: 228 \t box: 290\r loaded \t image: 229 \t box: 291\r loaded \t image: 230 \t box: 292\r loaded \t image: 231 \t box: 293\r loaded \t image: 232 \t box: 294\r loaded \t image: 233 \t box: 295\r loaded \t image: 234 \t box: 296\r loaded \t image: 235 \t box: 297\r loaded \t image: 236 \t box: 298Can't open label file. (This can be normal only if you use MSCOCO):  \n",
            "\n",
            " all loaded. \n",
            "\n",
            " calculating k-means++ ...\n",
            "\n",
            " iterations = 13 \n",
            "\n",
            "\n",
            " avg IoU = 69.58 % \n",
            "\n",
            "Saving anchors to the file: anchors.txt \n",
            "anchors =   8, 17,  57, 75, 160,154, 199,284, 354,364\n",
            "^C\n"
          ],
          "name": "stdout"
        }
      ]
    }
  ]
}